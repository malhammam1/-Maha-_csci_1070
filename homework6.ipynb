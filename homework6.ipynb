{
 "cells": [
  {
   "cell_type": "code",
   "execution_count": 31,
   "id": "6625be08-9873-44c7-9e2a-64518656228d",
   "metadata": {},
   "outputs": [],
   "source": [
    "import pandas as pd\n",
    "from sklearn.preprocessing import OneHotEncoder, LabelEncoder\n",
    "\n",
    "df= pd.read_csv('Credit_card.csv')\n",
    "labels_df= pd.read_csv('Credit_card_label.csv')\n",
    "df= df.merge(labels_df, left_on='Ind_ID', right_on='Ind_ID')\n",
    "\n",
    "\n",
    "\n",
    "onehot_encoder= OneHotEncoder()\n",
    "nominal_columns= ['GENDER', 'Car_Owner', 'Propert_Owner', 'Type_Income', 'Marital_status', 'Housing_type', 'Type_Occupation' ]\n",
    "df_onehot= pd.get_dummies(df[nominal_columns])\n",
    "\n",
    "label_encoder= LabelEncoder()\n",
    "df['EDUCATION']= label_encoder.fit_transform(df['EDUCATION'])\n",
    "df= pd.concat([df.drop(nominal_columns, axis=1), df_onehot], axis=1)"
   ]
  },
  {
   "cell_type": "code",
   "execution_count": 41,
   "id": "94cec998-9eac-4e30-8efe-795454392e0d",
   "metadata": {},
   "outputs": [
    {
     "name": "stdout",
     "output_type": "stream",
     "text": [
      "Mean Squared Error: 0.08779253009842213\n"
     ]
    }
   ],
   "source": [
    "from sklearn.linear_model import LinearRegression\n",
    "from sklearn.model_selection import train_test_split\n",
    "from sklearn.metrics import mean_squared_error\n",
    "\n",
    "\n",
    "annual_income_mean= df['Annual_income'].mean()\n",
    "df['Annual_income']= df['Annual_income'].fillna(annual_income_mean)\n",
    "df['label']= df['label'].fillna(0)\n",
    "x= df[['Annual_income']]\n",
    "y= df['label']\n",
    "\n",
    "x_train, x_test, y_train, y_test= train_test_split(x, y, test_size= 0.2, random_state=42)\n",
    "model= LinearRegression()\n",
    "model.fit(x_train, y_train)\n",
    "predictions= model.predict(x_test)\n",
    "mse= mean_squared_error(y_test, predictions)\n",
    "print(f'Mean Squared Error: {mse}')"
   ]
  },
  {
   "cell_type": "markdown",
   "id": "91a8591e-d4f5-485f-a0e0-c6c92b7972f5",
   "metadata": {},
   "source": []
  },
  {
   "cell_type": "code",
   "execution_count": 37,
   "id": "712861c2-cd15-4aec-9dac-54ae5c563673",
   "metadata": {},
   "outputs": [
    {
     "name": "stdout",
     "output_type": "stream",
     "text": [
      "Accuracy: 0.9032258064516129\n"
     ]
    }
   ],
   "source": [
    "from sklearn.neighbors import KNeighborsClassifier\n",
    "from sklearn.metrics import accuracy_score\n",
    "df['Annual_income']= df['Annual_income'].fillna(df['Annual_income'].mean())\n",
    "x= df[['Annual_income']].fillna(df['Annual_income'].mean())\n",
    "y= df['label']\n",
    "\n",
    "x_train, x_test, y_train, y_test= train_test_split(x, y, test_size=0.2, random_state=42)\n",
    "knn_model= KNeighborsClassifier(n_neighbors=5)\n",
    "knn_model.fit(x_train, y_train)\n",
    "knn_predictions= knn_model.predict(x_test)\n",
    "accuracy= accuracy_score(y_test, knn_predictions)\n",
    "print(f'Accuracy: {accuracy}')"
   ]
  },
  {
   "cell_type": "code",
   "execution_count": 38,
   "id": "9d08ac17-0361-452b-8e3b-77cf63958f52",
   "metadata": {},
   "outputs": [
    {
     "name": "stdout",
     "output_type": "stream",
     "text": [
      "Accuracy: 0.9032258064516129\n"
     ]
    }
   ],
   "source": [
    "from sklearn.linear_model import LogisticRegression\n",
    "logistic_model= LogisticRegression()\n",
    "logistic_model.fit(x_train, y_train)\n",
    "logistic_predictions= logistic_model.predict(x_test)\n",
    "accuracy= accuracy_score(y_test, logistic_predictions)\n",
    "print(f'Accuracy: {accuracy}')"
   ]
  },
  {
   "cell_type": "code",
   "execution_count": 39,
   "id": "9dcdba85-ccde-4b12-a654-1c9c9cad1dfb",
   "metadata": {},
   "outputs": [
    {
     "name": "stdout",
     "output_type": "stream",
     "text": [
      "KNN Accuracy after normalization: 0.9032258064516129\n",
      "Logistic Regression Accuracy after normalization: 0.9032258064516129\n"
     ]
    }
   ],
   "source": [
    "from sklearn.preprocessing import StandardScaler\n",
    "scaled= StandardScaler()\n",
    "x_train_scaled= scaled.fit_transform(x_train)\n",
    "x_test_scaled= scaled.transform(x_test)\n",
    "x_train, x_test, y_train, y_test= train_test_split(x_scaled, y, test_size=0.2, random_state=42)\n",
    "\n",
    "knn_model= KNeighborsClassifier(n_neighbors=5)\n",
    "knn_model.fit(x_train_scaled, y_train)\n",
    "knn_predictions= knn_model.predict(x_test_scaled)\n",
    "knn_accuracy= accuracy_score(y_test, knn_predictions)\n",
    "\n",
    "logistic_model= LogisticRegression()\n",
    "logistic_model.fit(x_train_scaled, y_train)\n",
    "logistic_predictions= logistic_model.predict(x_test_scaled)\n",
    "logistic_accuracy= accuracy_score(y_test, logistic_predictions)\n",
    "\n",
    "print(f'KNN Accuracy after normalization: {knn_accuracy}')\n",
    "print(f'Logistic Regression Accuracy after normalization: {logistic_accuracy}')\n"
   ]
  },
  {
   "cell_type": "code",
   "execution_count": null,
   "id": "61825b68-4707-4b8a-8f3f-06c74a6f30a9",
   "metadata": {},
   "outputs": [],
   "source": []
  }
 ],
 "metadata": {
  "kernelspec": {
   "display_name": "Python 3 (ipykernel)",
   "language": "python",
   "name": "python3"
  },
  "language_info": {
   "codemirror_mode": {
    "name": "ipython",
    "version": 3
   },
   "file_extension": ".py",
   "mimetype": "text/x-python",
   "name": "python",
   "nbconvert_exporter": "python",
   "pygments_lexer": "ipython3",
   "version": "3.9.2"
  }
 },
 "nbformat": 4,
 "nbformat_minor": 5
}
