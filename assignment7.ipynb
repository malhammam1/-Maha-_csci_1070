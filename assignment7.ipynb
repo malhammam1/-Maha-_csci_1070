{
  "nbformat": 4,
  "nbformat_minor": 0,
  "metadata": {
    "colab": {
      "provenance": [],
      "authorship_tag": "ABX9TyOPcD5j18Kd75CnXBu6ouOu",
      "include_colab_link": true
    },
    "kernelspec": {
      "name": "python3",
      "display_name": "Python 3"
    },
    "language_info": {
      "name": "python"
    }
  },
  "cells": [
    {
      "cell_type": "markdown",
      "metadata": {
        "id": "view-in-github",
        "colab_type": "text"
      },
      "source": [
        "<a href=\"https://colab.research.google.com/github/malhammam1/Maha_csci_1070/blob/master/assignment7.ipynb\" target=\"_parent\"><img src=\"https://colab.research.google.com/assets/colab-badge.svg\" alt=\"Open In Colab\"/></a>"
      ]
    },
    {
      "cell_type": "code",
      "execution_count": 1,
      "metadata": {
        "colab": {
          "base_uri": "https://localhost:8080/"
        },
        "id": "k7krgiO3Vr4d",
        "outputId": "0bbf3dc9-2b0e-4496-f3bc-f01012593ce0"
      },
      "outputs": [
        {
          "output_type": "stream",
          "name": "stdout",
          "text": [
            "Cloning into 'Maha_csci_1070'...\n",
            "remote: Enumerating objects: 50, done.\u001b[K\n",
            "remote: Counting objects: 100% (50/50), done.\u001b[K\n",
            "remote: Compressing objects: 100% (41/41), done.\u001b[K\n",
            "remote: Total 50 (delta 16), reused 31 (delta 6), pack-reused 0\u001b[K\n",
            "Receiving objects: 100% (50/50), 151.56 KiB | 12.63 MiB/s, done.\n",
            "Resolving deltas: 100% (16/16), done.\n"
          ]
        }
      ],
      "source": [
        "!git clone https://github.com/malhammam1/Maha_csci_1070.git"
      ]
    },
    {
      "cell_type": "code",
      "source": [
        "%cd Maha_csci_1070"
      ],
      "metadata": {
        "colab": {
          "base_uri": "https://localhost:8080/"
        },
        "id": "Xvx8CaXvVx3s",
        "outputId": "7fe7b426-5267-4429-cfae-6c8f0376d088"
      },
      "execution_count": 2,
      "outputs": [
        {
          "output_type": "stream",
          "name": "stdout",
          "text": [
            "/content/Maha_csci_1070\n"
          ]
        }
      ]
    },
    {
      "cell_type": "code",
      "source": [
        "!git clone https://github.com/lexmckenz/csci_1070.git"
      ],
      "metadata": {
        "colab": {
          "base_uri": "https://localhost:8080/"
        },
        "id": "GwDjFsETV4LR",
        "outputId": "48ef29af-6918-435b-db76-96d8c8be026a"
      },
      "execution_count": 5,
      "outputs": [
        {
          "output_type": "stream",
          "name": "stdout",
          "text": [
            "Cloning into 'csci_1070'...\n",
            "remote: Enumerating objects: 206, done.\u001b[K\n",
            "remote: Counting objects:   2% (1/41)\u001b[K\rremote: Counting objects:   4% (2/41)\u001b[K\rremote: Counting objects:   7% (3/41)\u001b[K\rremote: Counting objects:   9% (4/41)\u001b[K\rremote: Counting objects:  12% (5/41)\u001b[K\rremote: Counting objects:  14% (6/41)\u001b[K\rremote: Counting objects:  17% (7/41)\u001b[K\rremote: Counting objects:  19% (8/41)\u001b[K\rremote: Counting objects:  21% (9/41)\u001b[K\rremote: Counting objects:  24% (10/41)\u001b[K\rremote: Counting objects:  26% (11/41)\u001b[K\rremote: Counting objects:  29% (12/41)\u001b[K\rremote: Counting objects:  31% (13/41)\u001b[K\rremote: Counting objects:  34% (14/41)\u001b[K\rremote: Counting objects:  36% (15/41)\u001b[K\rremote: Counting objects:  39% (16/41)\u001b[K\rremote: Counting objects:  41% (17/41)\u001b[K\rremote: Counting objects:  43% (18/41)\u001b[K\rremote: Counting objects:  46% (19/41)\u001b[K\rremote: Counting objects:  48% (20/41)\u001b[K\rremote: Counting objects:  51% (21/41)\u001b[K\rremote: Counting objects:  53% (22/41)\u001b[K\rremote: Counting objects:  56% (23/41)\u001b[K\rremote: Counting objects:  58% (24/41)\u001b[K\rremote: Counting objects:  60% (25/41)\u001b[K\rremote: Counting objects:  63% (26/41)\u001b[K\rremote: Counting objects:  65% (27/41)\u001b[K\rremote: Counting objects:  68% (28/41)\u001b[K\rremote: Counting objects:  70% (29/41)\u001b[K\rremote: Counting objects:  73% (30/41)\u001b[K\rremote: Counting objects:  75% (31/41)\u001b[K\rremote: Counting objects:  78% (32/41)\u001b[K\rremote: Counting objects:  80% (33/41)\u001b[K\rremote: Counting objects:  82% (34/41)\u001b[K\rremote: Counting objects:  85% (35/41)\u001b[K\rremote: Counting objects:  87% (36/41)\u001b[K\rremote: Counting objects:  90% (37/41)\u001b[K\rremote: Counting objects:  92% (38/41)\u001b[K\rremote: Counting objects:  95% (39/41)\u001b[K\rremote: Counting objects:  97% (40/41)\u001b[K\rremote: Counting objects: 100% (41/41)\u001b[K\rremote: Counting objects: 100% (41/41), done.\u001b[K\n",
            "remote: Compressing objects: 100% (32/32), done.\u001b[K\n",
            "remote: Total 206 (delta 16), reused 29 (delta 6), pack-reused 165\u001b[K\n",
            "Receiving objects: 100% (206/206), 14.54 MiB | 18.63 MiB/s, done.\n",
            "Resolving deltas: 100% (78/78), done.\n"
          ]
        }
      ]
    },
    {
      "cell_type": "code",
      "source": [
        "%cd csci_1070"
      ],
      "metadata": {
        "colab": {
          "base_uri": "https://localhost:8080/"
        },
        "id": "b4QX0fftV9jK",
        "outputId": "d3baf7ca-2875-422c-c158-7acc0490686e"
      },
      "execution_count": 6,
      "outputs": [
        {
          "output_type": "stream",
          "name": "stdout",
          "text": [
            "/content/Maha_csci_1070/csci_1070\n"
          ]
        }
      ]
    },
    {
      "cell_type": "code",
      "source": [
        "import psycopg2\n",
        "import pandas as pd\n",
        "\n",
        "def run_query(query):\n",
        "    try:\n",
        "        conn = psycopg2.connect(\n",
        "            host=\",\n",
        "            port=\"\n",
        "            database=\"dvdrental\",\n",
        "            user=\"malhammam1\",\n",
        "            password=\"3432243MM\"\n",
        "        )\n",
        "        df = pd.read_sql(query, conn)\n",
        "        conn.close()\n",
        "        return df\n",
        "    except psycopg2.Error as e:\n",
        "        print(f\"Error: {e}\")\n",
        "        return None\n",
        "\n",
        "\n",
        "query = \"SELECT * FROM payment LIMIT 5;\"\n",
        "payments_df = run_query(query)\n",
        "print(payments_df)\n"
      ],
      "metadata": {
        "colab": {
          "base_uri": "https://localhost:8080/"
        },
        "id": "uPc3HjWcWT9A",
        "outputId": "ed90e944-46a8-4278-9210-81fd6872cc98"
      },
      "execution_count": 7,
      "outputs": [
        {
          "output_type": "stream",
          "name": "stdout",
          "text": [
            "Error: connection to server at \"localhost\" (127.0.0.1), port 5432 failed: Connection refused\n",
            "\tIs the server running on that host and accepting TCP/IP connections?\n",
            "connection to server at \"localhost\" (::1), port 5432 failed: Cannot assign requested address\n",
            "\tIs the server running on that host and accepting TCP/IP connections?\n",
            "\n",
            "None\n"
          ]
        }
      ]
    },
    {
      "cell_type": "code",
      "source": [
        "SELECT first_name, last_name\n",
        "FROM customer\n",
        "WHERE last_name LIKE 'T%'\n",
        "ORDER BY first_name;"
      ],
      "metadata": {
        "id": "45yXDVFJPReJ"
      },
      "execution_count": null,
      "outputs": []
    },
    {
      "cell_type": "code",
      "source": [
        "SELECT rental_id, rental_date, return_date\n",
        "FROM rental\n",
        "WHERE return_date BETWEEN '2005-05-28' AND '2005-06-01';"
      ],
      "metadata": {
        "id": "tojKsEkdPhu9"
      },
      "execution_count": null,
      "outputs": []
    },
    {
      "cell_type": "code",
      "source": [
        "SELECT film.title, COUNT(rental.rental_id) AS rental_count\n",
        "FROM rental\n",
        "JOIN inventory ON rental.inventory_id = inventory.inventory_id\n",
        "JOIN film ON inventory.film_id = film.film_id\n",
        "GROUP BY film.title\n",
        "ORDER BY rental_count DESC\n",
        "LIMIT 10;"
      ],
      "metadata": {
        "id": "WsTvp0jJQkiI"
      },
      "execution_count": null,
      "outputs": []
    },
    {
      "cell_type": "code",
      "source": [
        "SELECT customer.first_name, customer.last_name, SUM(payment.amount) AS total_spent\n",
        "FROM payment\n",
        "JOIN customer ON payment.customer_id = customer.customer_id\n",
        "GROUP BY customer.first_name, customer.last_name\n",
        "ORDER BY total_spent ASC;"
      ],
      "metadata": {
        "id": "uKZj2811QqGT"
      },
      "execution_count": null,
      "outputs": []
    },
    {
      "cell_type": "code",
      "source": [
        "SELECT CONCAT(actor.first_name, ' ', actor.last_name) AS actor_name, COUNT(film_actor.film_id) AS movie_count\n",
        "FROM film\n",
        "JOIN film_actor ON film.film_id = film_actor.film_id\n",
        "JOIN actor ON film_actor.actor_id = actor.actor_id\n",
        "WHERE film.release_year = 2006\n",
        "GROUP BY actor_name\n",
        "ORDER BY movie_count DESC\n",
        "LIMIT 1;"
      ],
      "metadata": {
        "id": "HeAxHsA8Qz9v"
      },
      "execution_count": null,
      "outputs": []
    },
    {
      "cell_type": "code",
      "source": [
        "EXPLAIN ANALYZE\n",
        "SELECT customer.first_name, customer.last_name, SUM(payment.amount) AS total_spent\n",
        "FROM payment\n",
        "JOIN customer ON payment.customer_id = customer.customer_id\n",
        "GROUP BY customer.first_name, customer.last_name\n",
        "ORDER BY total_spent ASC;"
      ],
      "metadata": {
        "id": "2rxZ_xyyQ_FD"
      },
      "execution_count": null,
      "outputs": []
    },
    {
      "cell_type": "code",
      "source": [
        "EXPLAIN ANALYZE\n",
        "SELECT CONCAT(actor.first_name, ' ', actor.last_name) AS actor_name, COUNT(film_actor.film_id) AS movie_count\n",
        "FROM film\n",
        "JOIN film_actor ON film.film_id = film_actor.film_id\n",
        "JOIN actor ON film_actor.actor_id = actor.actor_id\n",
        "WHERE film.release_year = 2006\n",
        "GROUP BY actor_name\n",
        "ORDER BY movie_count DESC\n",
        "LIMIT 1;"
      ],
      "metadata": {
        "id": "KSqMp8xNRExS"
      },
      "execution_count": null,
      "outputs": []
    },
    {
      "cell_type": "code",
      "source": [
        "SELECT category.name AS genre, AVG(film.rental_rate) AS avg_rental_rate\n",
        "FROM film\n",
        "JOIN film_category ON film.film_id = film_category.film_id\n",
        "JOIN category ON film_category.category_id = category.category_id\n",
        "GROUP BY category.name\n",
        "ORDER BY avg_rental_rate DESC;"
      ],
      "metadata": {
        "id": "_t9gzApbRRyf"
      },
      "execution_count": null,
      "outputs": []
    },
    {
      "cell_type": "code",
      "source": [
        "SELECT category.name AS genre, COUNT(rental.rental_id) AS rental_count, SUM(payment.amount) AS total_sales\n",
        "FROM rental\n",
        "JOIN inventory ON rental.inventory_id = inventory.inventory_id\n",
        "JOIN film ON inventory.film_id = film.film_id\n",
        "JOIN film_category ON film.film_id = film_category.film_id\n",
        "JOIN category ON film_category.category_id = category.category_id\n",
        "JOIN payment ON rental.rental_id = payment.rental_id\n",
        "GROUP BY category.name\n",
        "ORDER BY rental_count DESC\n",
        "LIMIT 5;"
      ],
      "metadata": {
        "id": "5tV1RSgfRXi9"
      },
      "execution_count": null,
      "outputs": []
    }
  ]
}