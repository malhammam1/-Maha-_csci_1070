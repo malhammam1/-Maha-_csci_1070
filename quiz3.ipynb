{
 "cells": [
  {
   "cell_type": "code",
   "execution_count": 2,
   "id": "8533c170-6f23-43bd-b508-124350858c23",
   "metadata": {},
   "outputs": [
    {
     "name": "stdout",
     "output_type": "stream",
     "text": [
      "       id                                               name  host_id  \\\n",
      "0   36666         Mo's Cozy Casa w/ veranda & access to dock   157752   \n",
      "1   36690  Mo's Cozy Cabana w/ comfy veranda & access to ...   157752   \n",
      "2  108932  Purple House eco solar  w/ ocean & wildlife views   563377   \n",
      "3  110483                            Michelo's fuchsia suite   567809   \n",
      "4  120115               Seaside Villas Second Floor Unit  #4   604999   \n",
      "\n",
      "  host_name neighbourhood_group         neighbourhood  latitude  longitude  \\\n",
      "0   Monique              Belize        Belize Islands  17.74786  -88.02398   \n",
      "1   Monique              Belize        Belize Islands  17.74832  -88.02474   \n",
      "2   Michael              Belize        Belize Islands  17.73221  -88.03824   \n",
      "3    Michel         Stann Creek  Stann Creek Mainland  16.52114  -88.36926   \n",
      "4     Bobbi              Belize        Belize Islands  17.74166  -88.02395   \n",
      "\n",
      "         room_type  price  minimum_nights  number_of_reviews last_review  \\\n",
      "0  Entire home/apt    141               3                250   2/23/2021   \n",
      "1  Entire home/apt     71               3                316   2/19/2021   \n",
      "2  Entire home/apt    191               2                 30   3/14/2020   \n",
      "3       Hotel room    121               1                 27   2/24/2020   \n",
      "4  Entire home/apt    343               1                 30   3/18/2020   \n",
      "\n",
      "   reviews_per_month  calculated_host_listings_count  availability_365  \n",
      "0               2.00                               5               225  \n",
      "1               2.46                               5               164  \n",
      "2               0.78                               1               364  \n",
      "3               0.29                               3               331  \n",
      "4               0.64                              22               203  \n"
     ]
    }
   ],
   "source": [
    "import pandas as pd \n",
    "df= pd.read_csv('belize_airbnb_listings.csv')\n",
    "print(df.head())"
   ]
  },
  {
   "cell_type": "code",
   "execution_count": 3,
   "id": "e90e46ac-77b9-4dea-9a4e-7e600af11a10",
   "metadata": {},
   "outputs": [
    {
     "name": "stdout",
     "output_type": "stream",
     "text": [
      "          neighbourhood  average_price  total_reviews  max_availability\n",
      "0        Belize Islands     399.442824          22995               365\n",
      "1       Belize Mainland     288.273063           4105               365\n",
      "2                  Cayo     205.847525           7356               365\n",
      "3               Corozal     156.553846            492               365\n",
      "4           Orange Walk     122.035714            415               365\n",
      "5   Stann Creek Islands    1136.166667             69               365\n",
      "6  Stann Creek Mainland     456.994690           4786               365\n",
      "7       Toledo Mainland     222.978723            194               365\n"
     ]
    },
    {
     "name": "stderr",
     "output_type": "stream",
     "text": [
      "/tmp/ipykernel_1510/448031187.py:1: DeprecationWarning: \n",
      "Pyarrow will become a required dependency of pandas in the next major release of pandas (pandas 3.0),\n",
      "(to allow more performant data types, such as the Arrow string type, and better interoperability with other libraries)\n",
      "but was not found to be installed on your system.\n",
      "If this would cause problems for you,\n",
      "please provide us feedback at https://github.com/pandas-dev/pandas/issues/54466\n",
      "        \n",
      "  import pandas as pd\n"
     ]
    }
   ],
   "source": [
    "import pandas as pd\n",
    "df= pd.read_csv('belize_airbnb_listings.csv')\n",
    "mean_price= df.groupby('neighbourhood')['price'].mean().reset_index(name= 'average_price')\n",
    "total_reviews= df.groupby('neighbourhood')['number_of_reviews'].sum().reset_index(name= 'total_reviews')\n",
    "max_availability= df.groupby('neighbourhood')['availability_365'].max().reset_index(name= 'max_availability')\n",
    "grouped_df= mean_price.merge(total_reviews, on='neighbourhood').merge(max_availability, on='neighbourhood')\n",
    "print(grouped_df)"
   ]
  },
  {
   "cell_type": "code",
   "execution_count": null,
   "id": "d64a8c60-d836-40f7-a514-43ce70f2ed44",
   "metadata": {},
   "outputs": [],
   "source": []
  }
 ],
 "metadata": {
  "kernelspec": {
   "display_name": "Python 3 (ipykernel)",
   "language": "python",
   "name": "python3"
  },
  "language_info": {
   "codemirror_mode": {
    "name": "ipython",
    "version": 3
   },
   "file_extension": ".py",
   "mimetype": "text/x-python",
   "name": "python",
   "nbconvert_exporter": "python",
   "pygments_lexer": "ipython3",
   "version": "3.9.2"
  }
 },
 "nbformat": 4,
 "nbformat_minor": 5
}
