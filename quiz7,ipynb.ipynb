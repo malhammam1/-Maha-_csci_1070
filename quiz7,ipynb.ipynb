{
  "cells": [
    {
      "cell_type": "markdown",
      "metadata": {
        "id": "view-in-github",
        "colab_type": "text"
      },
      "source": [
        "<a href=\"https://colab.research.google.com/github/malhammam1/Maha_csci_1070/blob/master/quiz7%2Cipynb.ipynb\" target=\"_parent\"><img src=\"https://colab.research.google.com/assets/colab-badge.svg\" alt=\"Open In Colab\"/></a>"
      ]
    },
    {
      "cell_type": "code",
      "execution_count": 33,
      "metadata": {
        "colab": {
          "base_uri": "https://localhost:8080/"
        },
        "id": "LeIz-36fIDoe",
        "outputId": "868edbea-c103-438e-bf80-0fbe141eab93"
      },
      "outputs": [
        {
          "output_type": "stream",
          "name": "stdout",
          "text": [
            "Cloning into 'Maha_csci_1070'...\n",
            "remote: Enumerating objects: 47, done.\u001b[K\n",
            "remote: Counting objects: 100% (47/47), done.\u001b[K\n",
            "remote: Compressing objects: 100% (38/38), done.\u001b[K\n",
            "remote: Total 47 (delta 15), reused 31 (delta 6), pack-reused 0\u001b[K\n",
            "Receiving objects: 100% (47/47), 149.01 KiB | 1.31 MiB/s, done.\n",
            "Resolving deltas: 100% (15/15), done.\n"
          ]
        }
      ],
      "source": [
        "!git clone https://github.com/malhammam1/Maha_csci_1070.git"
      ]
    },
    {
      "cell_type": "code",
      "execution_count": 34,
      "metadata": {
        "colab": {
          "base_uri": "https://localhost:8080/"
        },
        "id": "PVvjIKIoIMFi",
        "outputId": "b4d6532a-1129-42c9-a17b-cd5d31ae2863"
      },
      "outputs": [
        {
          "output_type": "stream",
          "name": "stdout",
          "text": [
            "/content/Maha_csci_1070/csci_1070/Maha_csci_1070/csci_1070/Maha_csci_1070/csci_1070/Maha_csci_1070\n"
          ]
        }
      ],
      "source": [
        "%cd Maha_csci_1070"
      ]
    },
    {
      "cell_type": "code",
      "execution_count": 35,
      "metadata": {
        "colab": {
          "base_uri": "https://localhost:8080/"
        },
        "id": "sguh1OvCISlC",
        "outputId": "b9bd6f53-8ae4-418e-edeb-3f9ad7f3bd2d"
      },
      "outputs": [
        {
          "output_type": "stream",
          "name": "stdout",
          "text": [
            "Cloning into 'csci_1070'...\n",
            "remote: Enumerating objects: 206, done.\u001b[K\n",
            "remote: Counting objects: 100% (41/41), done.\u001b[K\n",
            "remote: Compressing objects: 100% (32/32), done.\u001b[K\n",
            "remote: Total 206 (delta 16), reused 29 (delta 6), pack-reused 165\u001b[K\n",
            "Receiving objects: 100% (206/206), 14.54 MiB | 7.51 MiB/s, done.\n",
            "Resolving deltas: 100% (78/78), done.\n"
          ]
        }
      ],
      "source": [
        "!git clone https://github.com/lexmckenz/csci_1070.git"
      ]
    },
    {
      "cell_type": "code",
      "execution_count": 36,
      "metadata": {
        "colab": {
          "base_uri": "https://localhost:8080/"
        },
        "id": "q1CE5Sm-IXxB",
        "outputId": "5ae677e5-0974-41e4-d010-f4d5dbe7d802"
      },
      "outputs": [
        {
          "output_type": "stream",
          "name": "stdout",
          "text": [
            "/content/Maha_csci_1070/csci_1070/Maha_csci_1070/csci_1070/Maha_csci_1070/csci_1070/Maha_csci_1070/csci_1070\n"
          ]
        }
      ],
      "source": [
        "%cd csci_1070"
      ]
    },
    {
      "cell_type": "code",
      "execution_count": 37,
      "metadata": {
        "colab": {
          "base_uri": "https://localhost:8080/"
        },
        "id": "tuhnB9vGIx6q",
        "outputId": "bd075165-f9b2-438d-ab51-31171473f715"
      },
      "outputs": [
        {
          "output_type": "stream",
          "name": "stdout",
          "text": [
            "Requirement already satisfied: psycopg2-binary in /usr/local/lib/python3.10/dist-packages (2.9.9)\n"
          ]
        }
      ],
      "source": [
        "!pip install psycopg2-binary"
      ]
    },
    {
      "cell_type": "code",
      "execution_count": 38,
      "metadata": {
        "colab": {
          "base_uri": "https://localhost:8080/"
        },
        "id": "OcrwS8kzMVM6",
        "outputId": "31b38ba5-8da2-4ec1-bf15-8ca4f46b3cd7"
      },
      "outputs": [
        {
          "output_type": "stream",
          "name": "stdout",
          "text": [
            "Requirement already satisfied: psycopg2-binary in /usr/local/lib/python3.10/dist-packages (2.9.9)\n",
            "Requirement already satisfied: pandas in /usr/local/lib/python3.10/dist-packages (2.0.3)\n",
            "Requirement already satisfied: python-dateutil>=2.8.2 in /usr/local/lib/python3.10/dist-packages (from pandas) (2.8.2)\n",
            "Requirement already satisfied: pytz>=2020.1 in /usr/local/lib/python3.10/dist-packages (from pandas) (2023.4)\n",
            "Requirement already satisfied: tzdata>=2022.1 in /usr/local/lib/python3.10/dist-packages (from pandas) (2024.1)\n",
            "Requirement already satisfied: numpy>=1.21.0 in /usr/local/lib/python3.10/dist-packages (from pandas) (1.25.2)\n",
            "Requirement already satisfied: six>=1.5 in /usr/local/lib/python3.10/dist-packages (from python-dateutil>=2.8.2->pandas) (1.16.0)\n"
          ]
        }
      ],
      "source": [
        "!pip install psycopg2-binary pandas"
      ]
    },
    {
      "cell_type": "code",
      "execution_count": 39,
      "metadata": {
        "colab": {
          "base_uri": "https://localhost:8080/"
        },
        "id": "ZGbj9uFjM5F9",
        "outputId": "8274ca99-ad54-4e73-ab02-9244b87c4f1e"
      },
      "outputs": [
        {
          "output_type": "stream",
          "name": "stdout",
          "text": [
            "Error: connection to server at \"100.115.92.198\", port 5432 failed: Connection timed out\n",
            "\tIs the server running on that host and accepting TCP/IP connections?\n",
            "\n",
            "None\n"
          ]
        }
      ],
      "source": [
        "import psycopg2\n",
        "import pandas as pd\n",
        "\n",
        "def run_query(query):\n",
        "    try:\n",
        "        conn = psycopg2.connect(\n",
        "            host=\"100.115.92.198\",\n",
        "            port=\"5432\",\n",
        "            database=\"dvdrental\",\n",
        "            user=\"malhammam1\",\n",
        "            password=\"3432243MM\"\n",
        "        )\n",
        "        df = pd.read_sql(query, conn)\n",
        "        conn.close()\n",
        "        return df\n",
        "    except psycopg2.Error as e:\n",
        "        print(f\"Error: {e}\")\n",
        "        return None\n",
        "\n",
        "\n",
        "query = \"SELECT * FROM payment LIMIT 5;\"\n",
        "payments_df = run_query(query)\n",
        "print(payments_df)\n",
        "\n"
      ]
    },
    {
      "cell_type": "code",
      "execution_count": 40,
      "metadata": {
        "colab": {
          "base_uri": "https://localhost:8080/",
          "height": 110
        },
        "id": "HREhBhRX7ige",
        "outputId": "3da5f80b-5af1-462a-8a9d-7f0c866c922a"
      },
      "outputs": [
        {
          "output_type": "error",
          "ename": "SyntaxError",
          "evalue": "invalid syntax (<ipython-input-40-48e0870ea5d4>, line 1)",
          "traceback": [
            "\u001b[0;36m  File \u001b[0;32m\"<ipython-input-40-48e0870ea5d4>\"\u001b[0;36m, line \u001b[0;32m1\u001b[0m\n\u001b[0;31m    SELECT * FROM payment WHERE amount >= 9.99;\u001b[0m\n\u001b[0m                  ^\u001b[0m\n\u001b[0;31mSyntaxError\u001b[0m\u001b[0;31m:\u001b[0m invalid syntax\n"
          ]
        }
      ],
      "source": [
        "SELECT * FROM payment WHERE amount >= 9.99;\n"
      ]
    },
    {
      "cell_type": "code",
      "execution_count": null,
      "metadata": {
        "id": "Sh4b3Nbi9Jqq"
      },
      "outputs": [],
      "source": [
        "WITH most_expensive AS (\n",
        "    SELECT MAX(amount) AS max_payment FROM payment\n",
        ")\n",
        "SELECT film.title\n",
        "FROM payment\n",
        "JOIN rental ON payment.rental_id = rental.rental_id\n",
        "JOIN inventory ON rental.inventory_id = inventory.inventory_id\n",
        "JOIN film ON inventory.film_id = film.film_id\n",
        "WHERE payment.amount = (SELECT max_payment FROM most_expensive);"
      ]
    },
    {
      "cell_type": "code",
      "execution_count": null,
      "metadata": {
        "id": "aWSV5JpVCF_7"
      },
      "outputs": [],
      "source": [
        "SELECT CONCAT(staff.first_name, ' ', staff.last_name) AS full_name,\n",
        "       staff.email,\n",
        "       address.address,\n",
        "       city.city,\n",
        "       country.country\n",
        "FROM staff\n",
        "JOIN address ON staff.address_id = address.address_id\n",
        "JOIN city ON address.city_id = city.city_id\n",
        "JOIN country ON city.country_id = country.country_id;\n"
      ]
    },
    {
      "cell_type": "markdown",
      "source": [
        "##What Sort of Companies/Industries are You Interested in Working for/In?\n",
        "I'm interested in working in the tech industry because I enjoy solving problems with code and learning about new technologies."
      ],
      "metadata": {
        "id": "-3uxY_n8yl7E"
      }
    }
  ],
  "metadata": {
    "colab": {
      "provenance": [],
      "authorship_tag": "ABX9TyOxrbJ/0lm6Dku/RycTFc/P",
      "include_colab_link": true
    },
    "kernelspec": {
      "display_name": "Python 3",
      "name": "python3"
    },
    "language_info": {
      "name": "python"
    }
  },
  "nbformat": 4,
  "nbformat_minor": 0
}