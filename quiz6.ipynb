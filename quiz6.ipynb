{
 "cells": [
  {
   "cell_type": "markdown",
   "id": "062befb5-d27a-43b9-9e17-9bd02b512015",
   "metadata": {},
   "source": [
    "why i chose the model: \n",
    "i chose to use logistic regrassion because it is suitable for binary classification tasks."
   ]
  },
  {
   "cell_type": "code",
   "execution_count": 4,
   "id": "399d3a46-9d71-4d93-b20f-c05b5619b09f",
   "metadata": {},
   "outputs": [
    {
     "name": "stdout",
     "output_type": "stream",
     "text": [
      "Requirement already satisfied: scikit-learn in /home/malhammam1/.local/lib/python3.9/site-packages (1.4.1.post1)\n",
      "Requirement already satisfied: numpy<2.0,>=1.19.5 in /home/malhammam1/.local/lib/python3.9/site-packages (from scikit-learn) (1.26.4)\n",
      "Requirement already satisfied: threadpoolctl>=2.0.0 in /home/malhammam1/.local/lib/python3.9/site-packages (from scikit-learn) (3.3.0)\n",
      "Requirement already satisfied: joblib>=1.2.0 in /home/malhammam1/.local/lib/python3.9/site-packages (from scikit-learn) (1.3.2)\n",
      "Requirement already satisfied: scipy>=1.6.0 in /home/malhammam1/.local/lib/python3.9/site-packages (from scikit-learn) (1.12.0)\n"
     ]
    }
   ],
   "source": [
    "pip install scikit-learn"
   ]
  },
  {
   "cell_type": "code",
   "execution_count": 5,
   "id": "ca17aafe-a2ab-46fc-b746-1eafcbb54d2b",
   "metadata": {},
   "outputs": [
    {
     "name": "stdout",
     "output_type": "stream",
     "text": [
      "                 emp_title  emp_length state homeownership  annual_income  \\\n",
      "0  global config engineer          3.0    NJ      MORTGAGE        90000.0   \n",
      "1   warehouse office clerk        10.0    HI          RENT        40000.0   \n",
      "2                 assembly         3.0    WI          RENT        40000.0   \n",
      "3         customer service         1.0    PA          RENT        30000.0   \n",
      "4     security supervisor         10.0    CA          RENT        35000.0   \n",
      "\n",
      "   verified_income  debt_to_income  annual_income_joint  \\\n",
      "0         Verified           18.01                  NaN   \n",
      "1     Not Verified            5.04                  NaN   \n",
      "2  Source Verified           21.15                  NaN   \n",
      "3     Not Verified           10.16                  NaN   \n",
      "4         Verified           57.96              57000.0   \n",
      "\n",
      "  verification_income_joint  debt_to_income_joint  ...  sub_grade  \\\n",
      "0                       NaN                   NaN  ...         C3   \n",
      "1                       NaN                   NaN  ...         C1   \n",
      "2                       NaN                   NaN  ...         D1   \n",
      "3                       NaN                   NaN  ...         A3   \n",
      "4                  Verified                 37.66  ...         C3   \n",
      "\n",
      "   issue_month  loan_status  initial_listing_status  disbursement_method  \\\n",
      "0     Mar-2018      Current                   whole                 Cash   \n",
      "1     Feb-2018      Current                   whole                 Cash   \n",
      "2     Feb-2018      Current              fractional                 Cash   \n",
      "3     Jan-2018      Current                   whole                 Cash   \n",
      "4     Mar-2018      Current                   whole                 Cash   \n",
      "\n",
      "    balance  paid_total  paid_principal  paid_interest  paid_late_fees  \n",
      "0  27015.86     1999.33          984.14        1015.19             0.0  \n",
      "1   4651.37      499.12          348.63         150.49             0.0  \n",
      "2   1824.63      281.80          175.37         106.43             0.0  \n",
      "3  18853.26     3312.89         2746.74         566.15             0.0  \n",
      "4  21430.15     2324.65         1569.85         754.80             0.0  \n",
      "\n",
      "[5 rows x 55 columns]\n"
     ]
    }
   ],
   "source": [
    "import pandas as pd\n",
    "from sklearn.model_selection import train_test_split\n",
    "from sklearn.linear_model import LogisticRegression\n",
    "from sklearn.metrics import accuracy_score\n",
    "df= pd.read_csv('Lending_Club.csv')\n",
    "print(df.head())\n",
    "\n"
   ]
  },
  {
   "cell_type": "code",
   "execution_count": 35,
   "id": "aaf20438-e634-4a60-aa2b-d0a820efbad6",
   "metadata": {},
   "outputs": [
    {
     "name": "stdout",
     "output_type": "stream",
     "text": [
      "The model's accuracy is: 0.5255\n",
      "confusion matrix:\n",
      " [[1050  948]\n",
      " [   1    1]]\n"
     ]
    }
   ],
   "source": [
    "import pandas as pd\n",
    "from sklearn.model_selection import train_test_split\n",
    "from sklearn.linear_model import LogisticRegression\n",
    "from sklearn.metrics import accuracy_score, confusion_matrix\n",
    "from sklearn.preprocessing import StandardScaler\n",
    "\n",
    "df= pd.read_csv('Lending_Club.csv')\n",
    "\n",
    "df['loan_status']= df['loan_status'].apply(lambda x:1 if x== 'Charged Off' else 0)\n",
    "features= ['annual_income', 'debt_to_income', 'emp_length']\n",
    "\n",
    "y= df['loan_status']\n",
    "scaler= StandardScaler()\n",
    "x_scaled= scaler.fit_transform(x)\n",
    "\n",
    "x_train, x_test, y_train, y_test= train_test_split(x_scaled, y, test_size= 0.2, random_state=32)\n",
    "model= LogisticRegression(max_iter=1000, class_weight= 'balanced')\n",
    "model.fit(x_train, y_train)\n",
    "predictions= model.predict(x_test)\n",
    "accuracy= accuracy_score(y_test, predictions)\n",
    "confusion= confusion_matrix(y_test, predictions, labels= model.classes_)\n",
    "print(\"The model's accuracy is:\", accuracy)  \n",
    "print('confusion matrix:\\n', confusion_matrix(y_test, predictions))"
   ]
  },
  {
   "cell_type": "code",
   "execution_count": null,
   "id": "426fbcbc-ee6c-4987-9e0a-6ba988013421",
   "metadata": {},
   "outputs": [],
   "source": []
  }
 ],
 "metadata": {
  "kernelspec": {
   "display_name": "Python 3 (ipykernel)",
   "language": "python",
   "name": "python3"
  },
  "language_info": {
   "codemirror_mode": {
    "name": "ipython",
    "version": 3
   },
   "file_extension": ".py",
   "mimetype": "text/x-python",
   "name": "python",
   "nbconvert_exporter": "python",
   "pygments_lexer": "ipython3",
   "version": "3.9.2"
  }
 },
 "nbformat": 4,
 "nbformat_minor": 5
}
